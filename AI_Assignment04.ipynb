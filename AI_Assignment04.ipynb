{
  "cells": [
    {
      "cell_type": "markdown",
      "metadata": {
        "id": "view-in-github",
        "colab_type": "text"
      },
      "source": [
        "<a href=\"https://colab.research.google.com/github/desewenkdk/Python/blob/master/AI_Assignment04.ipynb\" target=\"_parent\"><img src=\"https://colab.research.google.com/assets/colab-badge.svg\" alt=\"Open In Colab\"/></a>"
      ]
    },
    {
      "cell_type": "code",
      "execution_count": 1,
      "metadata": {
        "colab": {
          "base_uri": "https://localhost:8080/"
        },
        "id": "vfNfHIKA7HyO",
        "outputId": "3016fd0b-6611-4b80-c787-5a69984810df"
      },
      "outputs": [
        {
          "output_type": "stream",
          "name": "stdout",
          "text": [
            "Requirement already satisfied: IPython in /usr/local/lib/python3.7/dist-packages (5.5.0)\n",
            "Requirement already satisfied: pexpect in /usr/local/lib/python3.7/dist-packages (from IPython) (4.8.0)\n",
            "Requirement already satisfied: prompt-toolkit<2.0.0,>=1.0.4 in /usr/local/lib/python3.7/dist-packages (from IPython) (1.0.18)\n",
            "Requirement already satisfied: pygments in /usr/local/lib/python3.7/dist-packages (from IPython) (2.6.1)\n",
            "Requirement already satisfied: decorator in /usr/local/lib/python3.7/dist-packages (from IPython) (4.4.2)\n",
            "Requirement already satisfied: pickleshare in /usr/local/lib/python3.7/dist-packages (from IPython) (0.7.5)\n",
            "Requirement already satisfied: setuptools>=18.5 in /usr/local/lib/python3.7/dist-packages (from IPython) (57.4.0)\n",
            "Requirement already satisfied: traitlets>=4.2 in /usr/local/lib/python3.7/dist-packages (from IPython) (5.1.1)\n",
            "Requirement already satisfied: simplegeneric>0.8 in /usr/local/lib/python3.7/dist-packages (from IPython) (0.8.1)\n",
            "Requirement already satisfied: six>=1.9.0 in /usr/local/lib/python3.7/dist-packages (from prompt-toolkit<2.0.0,>=1.0.4->IPython) (1.15.0)\n",
            "Requirement already satisfied: wcwidth in /usr/local/lib/python3.7/dist-packages (from prompt-toolkit<2.0.0,>=1.0.4->IPython) (0.2.5)\n",
            "Requirement already satisfied: ptyprocess>=0.5 in /usr/local/lib/python3.7/dist-packages (from pexpect->IPython) (0.7.0)\n"
          ]
        }
      ],
      "source": [
        "!pip install IPython"
      ]
    },
    {
      "cell_type": "markdown",
      "metadata": {
        "id": "GnIGP3XoPZFa"
      },
      "source": [
        "#### colab에서 실행시 다음 주석문을 풀어 실행시킨다."
      ]
    },
    {
      "cell_type": "code",
      "execution_count": 2,
      "metadata": {
        "id": "XbPDbSM87LbC",
        "colab": {
          "base_uri": "https://localhost:8080/"
        },
        "outputId": "365b46f8-7684-47a3-8d96-96589d1e79ec"
      },
      "outputs": [
        {
          "output_type": "stream",
          "name": "stdout",
          "text": [
            "Mounted at /gdrive\n"
          ]
        }
      ],
      "source": [
        "\n",
        "from google.colab import drive\n",
        "drive.mount('/gdrive',force_remount=True)\n"
      ]
    },
    {
      "cell_type": "code",
      "execution_count": 3,
      "metadata": {
        "id": "HAlPWuWzDNWy"
      },
      "outputs": [],
      "source": [
        "import numpy as np\n",
        "import matplotlib.pyplot as plt\n",
        "import torch\n",
        "from torch.utils.data import Dataset, DataLoader\n",
        "import torch.nn as nn\n",
        "import torch.nn.functional as F\n",
        "from torchvision import transforms,datasets\n",
        "\n",
        "from sklearn.model_selection import train_test_split\n",
        "from copy import deepcopy\n",
        "from IPython.display import Image\n",
        "\n",
        "import collections"
      ]
    },
    {
      "cell_type": "code",
      "execution_count": 4,
      "metadata": {
        "colab": {
          "base_uri": "https://localhost:8080/"
        },
        "id": "NhjG0LjaDQlc",
        "outputId": "8151b4d1-568d-4345-8c0f-0ad495274e35"
      },
      "outputs": [
        {
          "output_type": "stream",
          "name": "stdout",
          "text": [
            "device_check: cpu\n"
          ]
        }
      ],
      "source": [
        "device=torch.device(\"cuda\" if torch.cuda.is_available() else \"cpu\")\n",
        "\n",
        "print('device_check:',device)"
      ]
    },
    {
      "cell_type": "markdown",
      "metadata": {
        "id": "9-KTU3jv4za0"
      },
      "source": [
        "# Load CIFAR 10 Dataset"
      ]
    },
    {
      "cell_type": "code",
      "execution_count": 5,
      "metadata": {
        "colab": {
          "base_uri": "https://localhost:8080/",
          "height": 104,
          "referenced_widgets": [
            "78669ed7b4aa4614993e308446759266",
            "148556aeae254ffab6839898fbd29138",
            "a9e0da09703d4b14b6b0ccca7578c864",
            "cf06e79549de44baa73f366a77f8fbcc",
            "bee35ed5c01f458ea2ad9e858a463dbf",
            "94dbe14b14dc4a4d8c061c59c34c38e6",
            "ff3e3378734f4ff4a77cfd5b82a1e7f6",
            "751556f326a54ca5a2071ee71b5c317f",
            "7be495dcf356421fba2ac17773ef59d3",
            "a49c1b59a10c4f5db10d52735be1bf50",
            "886bb37772834641b905a967482e067e"
          ]
        },
        "id": "Zt_T74ZbDVho",
        "outputId": "de755777-8f8c-4f86-af8b-905f4f053526"
      },
      "outputs": [
        {
          "output_type": "stream",
          "name": "stdout",
          "text": [
            "Downloading https://www.cs.toronto.edu/~kriz/cifar-10-python.tar.gz to ./data/cifar-10-python.tar.gz\n"
          ]
        },
        {
          "output_type": "display_data",
          "data": {
            "application/vnd.jupyter.widget-view+json": {
              "model_id": "78669ed7b4aa4614993e308446759266",
              "version_minor": 0,
              "version_major": 2
            },
            "text/plain": [
              "  0%|          | 0/170498071 [00:00<?, ?it/s]"
            ]
          },
          "metadata": {}
        },
        {
          "output_type": "stream",
          "name": "stdout",
          "text": [
            "Extracting ./data/cifar-10-python.tar.gz to ./data\n",
            "Files already downloaded and verified\n"
          ]
        }
      ],
      "source": [
        "trainset=datasets.CIFAR10(root = './data', train = True, download = True)\n",
        "testset = datasets.CIFAR10(root = './data', train = False, download = True)\n",
        "\n",
        "X_data, Y_data = trainset.data, np.array(trainset.targets)"
      ]
    },
    {
      "cell_type": "markdown",
      "metadata": {
        "id": "tCBEZ1K3i-Ns"
      },
      "source": [
        "#### sample the dataset"
      ]
    },
    {
      "cell_type": "code",
      "execution_count": 6,
      "metadata": {
        "colab": {
          "base_uri": "https://localhost:8080/"
        },
        "id": "rvgseKYMDXXb",
        "outputId": "e545eedc-601d-473d-f313-686314acf506"
      },
      "outputs": [
        {
          "output_type": "stream",
          "name": "stdout",
          "text": [
            "----Train data info----\n",
            "(16000, 32, 32, 3)\n",
            "(16000,)\n",
            "----Validation data info----\n",
            "(4000, 32, 32, 3)\n",
            "(4000,)\n",
            "----Test data info----\n",
            "(4000, 32, 32, 3)\n",
            "(4000,)\n"
          ]
        }
      ],
      "source": [
        "shuffle_mask=np.arange(X_data.shape[0])\n",
        "np.random.shuffle(shuffle_mask)\n",
        "\n",
        "X_data= X_data[shuffle_mask]\n",
        "Y_data= Y_data[shuffle_mask]\n",
        "\n",
        "X_train = X_data[:20000]\n",
        "X_test = X_data[20000:24000]\n",
        "Y_train = Y_data[:20000]\n",
        "Y_test = Y_data[20000:24000]\n",
        "\n",
        "\n",
        "X_train, X_valid, Y_train, Y_valid = train_test_split(X_train, Y_train, test_size=0.2)\n",
        "\n",
        "print('----Train data info----')\n",
        "print(X_train.shape)\n",
        "print(Y_train.shape)\n",
        "\n",
        "print('----Validation data info----')\n",
        "print(X_valid.shape)\n",
        "print(Y_valid.shape)\n",
        "\n",
        "print('----Test data info----')\n",
        "print(X_test.shape)\n",
        "print(Y_test.shape)"
      ]
    },
    {
      "cell_type": "markdown",
      "metadata": {
        "id": "3TqPpjf9i-Nt"
      },
      "source": [
        "####  image print"
      ]
    },
    {
      "cell_type": "code",
      "execution_count": 7,
      "metadata": {
        "colab": {
          "base_uri": "https://localhost:8080/",
          "height": 338
        },
        "id": "IQ7EIYDHGCPh",
        "outputId": "9b6ebad8-6de3-4c0b-f061-d7fec85eaf79"
      },
      "outputs": [
        {
          "output_type": "display_data",
          "data": {
            "image/png": "[encoded data removed]",
            "text/plain": [
              "<Figure size 432x288 with 20 Axes>"
            ]
          },
          "metadata": {}
        }
      ],
      "source": [
        "### cifar10 이미지 출력 ###\n",
        "\n",
        "sample_X = X_train[:20]\n",
        "sample_Y = Y_train[:20]\n",
        "\n",
        "fig = plt.figure()\n",
        "fig.subplots_adjust(left=0, bottom=0, right=1, top=1, wspace=1, hspace=1)\n",
        "for i in range(20):\n",
        "    subplot = fig.add_subplot(4, 5, i+1)\n",
        "    subplot.set_xticks([])\n",
        "    subplot.set_yticks([])\n",
        "    subplot.set_title('class %d'%sample_Y[i])\n",
        "    subplot.imshow(sample_X[i], cmap=plt.cm.gray_r)\n",
        "plt.show()"
      ]
    },
    {
      "cell_type": "code",
      "execution_count": 8,
      "metadata": {
        "id": "wZ1XHH36Ka8d"
      },
      "outputs": [],
      "source": [
        "class Custom_Dataset(Dataset):\n",
        "    def __init__(self, X, y):\n",
        "        self.X=np.transpose(X/255.0,(0,3,1,2))\n",
        "        self.y=y\n",
        "\n",
        "    def __len__(self):\n",
        "        \n",
        "        result=len(self.X)\n",
        "    \n",
        "        return result\n",
        "    \n",
        "    def __getitem__(self, idx):\n",
        "        \n",
        "        result_X=self.X[idx]\n",
        "        result_y=self.y[idx]\n",
        "        return result_X,result_y"
      ]
    },
    {
      "cell_type": "markdown",
      "metadata": {
        "id": "9ugKn24g7HyY"
      },
      "source": [
        "#### [문제 01] Flatten Function(Flatten Layer)\n",
        "\n",
        "Flatten layer는 CNN의 데이터 타입을 Fully Connected Neural Network의 형태로 변경하는 layer이다.\n",
        "flatten 함수를 통해 flatten layer를 구현하시오.\n",
        "(바꾸는 방법은 다양함.) (10점)"
      ]
    },
    {
      "cell_type": "markdown",
      "metadata": {
        "id": "Gz1O6aaZ7HyZ"
      },
      "source": [
        "![nn](img/flatten.png)"
      ]
    },
    {
      "cell_type": "code",
      "execution_count": 9,
      "metadata": {
        "id": "gbbTpQee7HyZ"
      },
      "outputs": [],
      "source": [
        "\n",
        "def flatten(x):\n",
        "    data=x.shape[0]\n",
        "\n",
        "    ###################### Write Your Code Here ###################\n",
        "    flatten_x = torch.flatten(x)\n",
        "    \n",
        "    ###############################################################\n",
        "    return flatten_x\n"
      ]
    },
    {
      "cell_type": "markdown",
      "metadata": {
        "id": "DJaslbGb7HyZ"
      },
      "source": [
        "#### [문제 02] Multi Layer Perceptron(MLP)\n",
        "전체 layer의 개수가 5개 이상 10개 이하인  Multi-layer Perceptron(MLP)를 만드시오. MLP model은 test dataset에 대해 40%     이상의 Test accuracy를 가져야 한다.\n",
        "\n",
        "\n",
        "(단 activation function은 self.activation_func을 사용해야 한다.) \n",
        "\n",
        "(** HINT: pytorch의 nn.Sequential을 찾아보고 사용해볼것.) (25점)"
      ]
    },
    {
      "cell_type": "code",
      "execution_count": 36,
      "metadata": {
        "id": "rU04cqIDi-Nw"
      },
      "outputs": [],
      "source": [
        "\n",
        "class MLP(nn.Module):\n",
        "    def __init__(self,input_size,active_func,output_size):\n",
        "        super(MLP,self).__init__()\n",
        "        \n",
        "        self.activation_func=active_func\n",
        "        ######################## Write your Code Here ########################\n",
        "        self.seq = nn.Sequential(\n",
        "            nn.Linear(input_size, input_size),  \n",
        "            active_func,\n",
        "            nn.Linear(input_size, (int)(input_size/2)),\n",
        "            active_func,\n",
        "            nn.Linear((int)(input_size/2), (int)(input_size/2)),\n",
        "            active_func,\n",
        "            nn.Dropout(0.25),\n",
        "            nn.Linear((int)(input_size/2), (int)(input_size/4)),\n",
        "            active_func,\n",
        "            nn.Linear((int)(input_size/4), output_size),\n",
        "        )\n",
        "\n",
        "        #######################################################################\n",
        "        \n",
        "    def forward(self,x):\n",
        "        x = flatten(x)  # flatten layer: 위에서 정의한 flatten 함수를 먼저 작성해야 한다.\n",
        "        x = x.view(-1, input_size)\n",
        "        x = self.seq(x) # 입력값이 하나인 것을 생각하고 network를 짜야한다.\n",
        "        return x\n",
        "        "
      ]
    },
    {
      "cell_type": "markdown",
      "metadata": {
        "id": "rbUUugzz7Hya"
      },
      "source": [
        "##### [문제 03] Convolutional Neural Network\n",
        "\n",
        "INPUT(32X32X3) --> CONV1(30X30X12) --> CONV2(28X28X12) --> POOL1(14X14X12) --> CONV3(12X12X24) --> CONV4(10X10X24) --> POOL2(5X5X24) --> FC --> ... -->FC(class num)를 따르는 CNN model을 만드시오.\n",
        "FC층은 2개에서 4개 사이의 층을 가지도록 구성한다.단 Test dataset에 대해 50% 이상의 Test accuracy를 가져야 한다. (30점)\n",
        "(activation function은 self.activation_func을 사용할 것.)\n"
      ]
    },
    {
      "cell_type": "code",
      "execution_count": 30,
      "metadata": {
        "id": "XHYS7eJJ7Hya"
      },
      "outputs": [],
      "source": [
        "class CNNModel(nn.Module):\n",
        "    def __init__(self,input_channel,active_func):\n",
        "        super(CNNModel, self).__init__()\n",
        "        \n",
        "        self.activation_func=active_func\n",
        "        ######################## Write your Code Here #########################\n",
        "        \n",
        "        self.conv1 = nn.Sequential(\n",
        "            \n",
        "            nn.Conv2d(input_channel,12,3),\n",
        "            active_func,\n",
        "            nn.Conv2d(12,12,3),\n",
        "            active_func,\n",
        "            nn.MaxPool2d(2,stride=2)\n",
        "        )\n",
        "        self.conv2 = nn.Sequential(\n",
        "            nn.Conv2d(12,24,3),\n",
        "            active_func,\n",
        "            nn.Conv2d(24,24,3),\n",
        "            active_func,\n",
        "            nn.MaxPool2d(2,stride=2)\n",
        "        )\n",
        "\n",
        "        self.fc1 = nn.Sequential(\n",
        "            \n",
        "            nn.Linear(5*5*24, 5*5*24),\n",
        "            active_func,\n",
        "            nn.Linear(5*5*24, 5*5*24),\n",
        "            active_func, \n",
        "            nn.Linear(5*5*24, 10)\n",
        "        )\n",
        "        \n",
        "        #######################################################################\n",
        "\n",
        "    def forward(self, output):\n",
        "        ######################## Write your Code Here #########################\n",
        "\n",
        "        x = self.conv1(output)\n",
        "        #print(x.shape)\n",
        "        x = self.conv2(x)\n",
        "        #print(x.shape)\n",
        "        x = x.view(-1, 5*5*24)\n",
        "        x = self.fc1(x)\n",
        "        return x\n",
        "\n",
        "        \n",
        "        \n",
        "        \n",
        "        \n",
        "        \n",
        "        \n",
        "        \n",
        "        \n",
        "        \n",
        "        \n",
        "        #######################################################################\n",
        "\n",
        "\n"
      ]
    },
    {
      "cell_type": "code",
      "execution_count": 12,
      "metadata": {
        "id": "il6dLnCzLos3"
      },
      "outputs": [],
      "source": [
        "## train func\n",
        "def train(model, epoches, train_loader, val_loader, optimizer, criteria):\n",
        "    best_score = 0\n",
        "    best_model = None\n",
        "    batch_len = len(train_loader)\n",
        "    val_acc = []\n",
        "    for epoch in range(epoches):\n",
        "        total_loss = 0;train_acc=0.0;correct = 0\n",
        "        for i,data in enumerate(train_loader):\n",
        "            image,label=data\n",
        "            image = torch.tensor(image, device = device)\n",
        "            label = torch.tensor(label, device = device)\n",
        "            model.train() \n",
        "            optimizer.zero_grad() \n",
        "            output=model(image.float())\n",
        "            prediction=output.max(1,keepdim=True)[1]\n",
        "            loss=criteria(output,label.long())\n",
        "            correct += prediction.eq(label.view_as(prediction)).sum().item()\n",
        "            loss.backward() \n",
        "            optimizer.step()\n",
        "            train_accuracy = 100. * correct / len(train_loader.dataset)\n",
        "            \n",
        "            # loss\n",
        "            total_loss+=loss.item()             \n",
        "        \n",
        "            if i % batch_len == batch_len-1:\n",
        "                print('{}th epoch loss:{:.6f} Train Acc:{}'.format(epoch+1,total_loss/batch_len,train_accuracy))\n",
        "\n",
        "                total_loss = 0\n",
        "\n",
        "                val_score = evaluate(model,val_loader)\n",
        "                val_acc.append(val_score)\n",
        "                if val_score>=best_score:\n",
        "                    best_score=val_score \n",
        "                    best_model=deepcopy(model)\n",
        "\n",
        "    return best_model, val_acc\n",
        "\n",
        "## evaluation func\n",
        "def evaluate(model, test_loader):\n",
        "    model.eval()\n",
        "\n",
        "    correct = 0\n",
        "    with torch.no_grad():\n",
        "        for data in test_loader:\n",
        "            image,label=data\n",
        "            image = image.to(device)\n",
        "            label = label.to(device)\n",
        "            output = model(image.float())\n",
        "            prediction = output.max(1, keepdim = True)[1]\n",
        "            correct += prediction.eq(label.view_as(prediction)).sum().item()\n",
        "    \n",
        "    test_accuracy = 100. * correct / len(test_loader.dataset)\n",
        "    \n",
        "    return test_accuracy\n"
      ]
    },
    {
      "cell_type": "code",
      "execution_count": 13,
      "metadata": {
        "id": "4X_tSp3Iy3Jg"
      },
      "outputs": [],
      "source": [
        "def choice_activation(name):\n",
        "    if name==\"sigmod\":\n",
        "        function=nn.Sigmoid()\n",
        "    elif name==\"relu\":\n",
        "        function=nn.ReLU()\n",
        "    elif name==\"tanh\":\n",
        "        function=nn.Tanh()\n",
        "    elif name==\"leakyrelu\":\n",
        "        function=nn.LeakyReLU()\n",
        "    return function"
      ]
    },
    {
      "cell_type": "markdown",
      "metadata": {
        "id": "lJuwI_Cp7Hyc"
      },
      "source": [
        "#### [문제 04] Activation Function\n",
        "\n",
        "위에서 정의한 choice_activation()을 통해 4가지 중 하나의 activation function을 선택해 active_function 변수에 저장하고, \n",
        "해당 activation function을 선택한 이유를 보고서에 서술하시오. (5점)"
      ]
    },
    {
      "cell_type": "code",
      "execution_count": null,
      "metadata": {
        "colab": {
          "base_uri": "https://localhost:8080/"
        },
        "id": "XK0Jfy9tUIP3",
        "outputId": "e109f9fd-59dc-44a2-f649-8de04b3ffb51",
        "scrolled": true
      },
      "outputs": [
        {
          "output_type": "stream",
          "name": "stdout",
          "text": [
            "============== MLP Train Start ================\n"
          ]
        },
        {
          "output_type": "stream",
          "name": "stderr",
          "text": [
            "/usr/local/lib/python3.7/dist-packages/ipykernel_launcher.py:11: UserWarning: To copy construct from a tensor, it is recommended to use sourceTensor.clone().detach() or sourceTensor.clone().detach().requires_grad_(True), rather than torch.tensor(sourceTensor).\n",
            "  # This is added back by InteractiveShellApp.init_path()\n",
            "/usr/local/lib/python3.7/dist-packages/ipykernel_launcher.py:12: UserWarning: To copy construct from a tensor, it is recommended to use sourceTensor.clone().detach() or sourceTensor.clone().detach().requires_grad_(True), rather than torch.tensor(sourceTensor).\n",
            "  if sys.path[0] == '':\n"
          ]
        },
        {
          "output_type": "stream",
          "name": "stdout",
          "text": [
            "1th epoch loss:2.113227 Train Acc:18.75\n",
            "2th epoch loss:1.906058 Train Acc:29.05\n",
            "3th epoch loss:1.823983 Train Acc:33.06875\n",
            "4th epoch loss:1.771120 Train Acc:35.41875\n",
            "5th epoch loss:1.729522 Train Acc:37.025\n"
          ]
        }
      ],
      "source": [
        "# hyperparameter\n",
        "EPOCHS=20\n",
        "LEARNING_RATE=1e-3\n",
        "\n",
        "## 배치 사이즈는 사양에 맞게  변경이 가능하다.\n",
        "###################################\n",
        "BATCH_SIZE=128\n",
        "####################################\n",
        "\n",
        "train_loader = DataLoader(Custom_Dataset(X_train,Y_train), batch_size = BATCH_SIZE)\n",
        "val_loader = DataLoader(Custom_Dataset(X_valid,Y_valid), batch_size = BATCH_SIZE)\n",
        "test_loader = DataLoader(Custom_Dataset(X_test,Y_test), batch_size = BATCH_SIZE)\n",
        "\n",
        "\n",
        "\n",
        "########## Write Your Code Here #########\n",
        "active_function = choice_activation(\"relu\")\n",
        "#########################################\n",
        "criterion=nn.CrossEntropyLoss()\n",
        "\n",
        "\n",
        "input_channel=X_train.shape[3]\n",
        "input_size=X_train.shape[1]*X_train.shape[2]*X_train.shape[3]\n",
        "output_size=len(np.unique(Y_train))\n",
        "\n",
        "\n",
        "mlp_model=MLP(input_size,active_function,output_size)\n",
        "mlp_model.to(device)\n",
        "mlp_optimizer=torch.optim.Adam(mlp_model.parameters(),lr=LEARNING_RATE)\n",
        "criterion=nn.CrossEntropyLoss() \n",
        "\n",
        "cnn_model=CNNModel(input_channel,active_function)\n",
        "cnn_model.to(device)\n",
        "\n",
        "cnn_optimizer=torch.optim.Adam(cnn_model.parameters(),lr=LEARNING_RATE)\n",
        "\n",
        "\n",
        "print(\"============== MLP Train Start ================\")\n",
        "best_mlp,mlp_val_acc=train(mlp_model,EPOCHS,train_loader, val_loader,mlp_optimizer,criterion)\n",
        "mlp_acc=evaluate(best_mlp,test_loader)\n",
        "print('----------- MLP Test Result ----------------')\n",
        "print('MLP Test Accuracy:',mlp_acc)\n",
        "\n",
        "# train cnn and test cnn\n",
        "print(\"============== CNN Train Start ================\")\n",
        "best_cnn,cnn_val_acc=train(cnn_model,EPOCHS,train_loader, val_loader,cnn_optimizer,criterion)\n",
        "cnn_acc=evaluate(best_cnn,test_loader)\n",
        "print('----------- CNN Test Result ----------------')\n",
        "print('CNN Test Accuracy:',cnn_acc)\n",
        "# train mlp and test mlp\n",
        "\n",
        "\n",
        "\n",
        "\n",
        "\n",
        "\n",
        "\n",
        "### Graph Shows ####\n",
        "\n",
        "plt.rcParams[\"figure.figsize\"]=(10,6)\n",
        "plt.title('[ Validation Accuarcy ]')\n",
        "\n",
        "plt.plot(np.arange(1,len(mlp_val_acc)+1),mlp_val_acc,label='validation',color='darkblue')\n",
        "plt.plot(np.arange(1,len(cnn_val_acc)+1),cnn_val_acc,label='validation',color='darkred')\n",
        "plt.xlim([0,20])\n",
        "plt.legend(['MLP','CNN'])\n",
        "plt.xlabel('Epoch')\n",
        "plt.ylabel('Accuracy (%)')\n",
        "plt.grid(True)\n",
        "plt.show()\n"
      ]
    },
    {
      "cell_type": "code",
      "execution_count": null,
      "metadata": {
        "id": "KT3coZDfKZO8"
      },
      "outputs": [],
      "source": [
        ""
      ]
    },
    {
      "cell_type": "code",
      "execution_count": null,
      "metadata": {
        "id": "UR1uDUT-KZO8"
      },
      "outputs": [],
      "source": [
        ""
      ]
    }
  ],
  "metadata": {
    "accelerator": "GPU",
    "colab": {
      "collapsed_sections": [],
      "name": "AI_Assignment04.ipynb",
      "provenance": [],
      "include_colab_link": true
    },
    "kernelspec": {
      "display_name": "Python 3",
      "language": "python",
      "name": "python3"
    },
    "language_info": {
      "codemirror_mode": {
        "name": "ipython",
        "version": 3
      },
      "file_extension": ".py",
      "mimetype": "text/x-python",
      "name": "python",
      "nbconvert_exporter": "python",
      "pygments_lexer": "ipython3",
      "version": "3.7.4"
    },
    "widgets": {
      "application/vnd.jupyter.widget-state+json": {
        "78669ed7b4aa4614993e308446759266": {
          "model_module": "@jupyter-widgets/controls",
          "model_name": "HBoxModel",
          "model_module_version": "1.5.0",
          "state": {
            "_view_name": "HBoxView",
            "_dom_classes": [],
            "_model_name": "HBoxModel",
            "_view_module": "@jupyter-widgets/controls",
            "_model_module_version": "1.5.0",
            "_view_count": null,
            "_view_module_version": "1.5.0",
            "box_style": "",
            "layout": "IPY_MODEL_148556aeae254ffab6839898fbd29138",
            "_model_module": "@jupyter-widgets/controls",
            "children": [
              "IPY_MODEL_a9e0da09703d4b14b6b0ccca7578c864",
              "IPY_MODEL_cf06e79549de44baa73f366a77f8fbcc",
              "IPY_MODEL_bee35ed5c01f458ea2ad9e858a463dbf"
            ]
          }
        },
        "148556aeae254ffab6839898fbd29138": {
          "model_module": "@jupyter-widgets/base",
          "model_name": "LayoutModel",
          "model_module_version": "1.2.0",
          "state": {
            "_view_name": "LayoutView",
            "grid_template_rows": null,
            "right": null,
            "justify_content": null,
            "_view_module": "@jupyter-widgets/base",
            "overflow": null,
            "_model_module_version": "1.2.0",
            "_view_count": null,
            "flex_flow": null,
            "width": null,
            "min_width": null,
            "border": null,
            "align_items": null,
            "bottom": null,
            "_model_module": "@jupyter-widgets/base",
            "top": null,
            "grid_column": null,
            "overflow_y": null,
            "overflow_x": null,
            "grid_auto_flow": null,
            "grid_area": null,
            "grid_template_columns": null,
            "flex": null,
            "_model_name": "LayoutModel",
            "justify_items": null,
            "grid_row": null,
            "max_height": null,
            "align_content": null,
            "visibility": null,
            "align_self": null,
            "height": null,
            "min_height": null,
            "padding": null,
            "grid_auto_rows": null,
            "grid_gap": null,
            "max_width": null,
            "order": null,
            "_view_module_version": "1.2.0",
            "grid_template_areas": null,
            "object_position": null,
            "object_fit": null,
            "grid_auto_columns": null,
            "margin": null,
            "display": null,
            "left": null
          }
        },
        "a9e0da09703d4b14b6b0ccca7578c864": {
          "model_module": "@jupyter-widgets/controls",
          "model_name": "HTMLModel",
          "model_module_version": "1.5.0",
          "state": {
            "_view_name": "HTMLView",
            "style": "IPY_MODEL_94dbe14b14dc4a4d8c061c59c34c38e6",
            "_dom_classes": [],
            "description": "",
            "_model_name": "HTMLModel",
            "placeholder": "​",
            "_view_module": "@jupyter-widgets/controls",
            "_model_module_version": "1.5.0",
            "value": "",
            "_view_count": null,
            "_view_module_version": "1.5.0",
            "description_tooltip": null,
            "_model_module": "@jupyter-widgets/controls",
            "layout": "IPY_MODEL_ff3e3378734f4ff4a77cfd5b82a1e7f6"
          }
        },
        "cf06e79549de44baa73f366a77f8fbcc": {
          "model_module": "@jupyter-widgets/controls",
          "model_name": "FloatProgressModel",
          "model_module_version": "1.5.0",
          "state": {
            "_view_name": "ProgressView",
            "style": "IPY_MODEL_751556f326a54ca5a2071ee71b5c317f",
            "_dom_classes": [],
            "description": "",
            "_model_name": "FloatProgressModel",
            "bar_style": "success",
            "max": 170498071,
            "_view_module": "@jupyter-widgets/controls",
            "_model_module_version": "1.5.0",
            "value": 170498071,
            "_view_count": null,
            "_view_module_version": "1.5.0",
            "orientation": "horizontal",
            "min": 0,
            "description_tooltip": null,
            "_model_module": "@jupyter-widgets/controls",
            "layout": "IPY_MODEL_7be495dcf356421fba2ac17773ef59d3"
          }
        },
        "bee35ed5c01f458ea2ad9e858a463dbf": {
          "model_module": "@jupyter-widgets/controls",
          "model_name": "HTMLModel",
          "model_module_version": "1.5.0",
          "state": {
            "_view_name": "HTMLView",
            "style": "IPY_MODEL_a49c1b59a10c4f5db10d52735be1bf50",
            "_dom_classes": [],
            "description": "",
            "_model_name": "HTMLModel",
            "placeholder": "​",
            "_view_module": "@jupyter-widgets/controls",
            "_model_module_version": "1.5.0",
            "value": " 170499072/? [00:06&lt;00:00, 28257395.87it/s]",
            "_view_count": null,
            "_view_module_version": "1.5.0",
            "description_tooltip": null,
            "_model_module": "@jupyter-widgets/controls",
            "layout": "IPY_MODEL_886bb37772834641b905a967482e067e"
          }
        },
        "94dbe14b14dc4a4d8c061c59c34c38e6": {
          "model_module": "@jupyter-widgets/controls",
          "model_name": "DescriptionStyleModel",
          "model_module_version": "1.5.0",
          "state": {
            "_view_name": "StyleView",
            "_model_name": "DescriptionStyleModel",
            "description_width": "",
            "_view_module": "@jupyter-widgets/base",
            "_model_module_version": "1.5.0",
            "_view_count": null,
            "_view_module_version": "1.2.0",
            "_model_module": "@jupyter-widgets/controls"
          }
        },
        "ff3e3378734f4ff4a77cfd5b82a1e7f6": {
          "model_module": "@jupyter-widgets/base",
          "model_name": "LayoutModel",
          "model_module_version": "1.2.0",
          "state": {
            "_view_name": "LayoutView",
            "grid_template_rows": null,
            "right": null,
            "justify_content": null,
            "_view_module": "@jupyter-widgets/base",
            "overflow": null,
            "_model_module_version": "1.2.0",
            "_view_count": null,
            "flex_flow": null,
            "width": null,
            "min_width": null,
            "border": null,
            "align_items": null,
            "bottom": null,
            "_model_module": "@jupyter-widgets/base",
            "top": null,
            "grid_column": null,
            "overflow_y": null,
            "overflow_x": null,
            "grid_auto_flow": null,
            "grid_area": null,
            "grid_template_columns": null,
            "flex": null,
            "_model_name": "LayoutModel",
            "justify_items": null,
            "grid_row": null,
            "max_height": null,
            "align_content": null,
            "visibility": null,
            "align_self": null,
            "height": null,
            "min_height": null,
            "padding": null,
            "grid_auto_rows": null,
            "grid_gap": null,
            "max_width": null,
            "order": null,
            "_view_module_version": "1.2.0",
            "grid_template_areas": null,
            "object_position": null,
            "object_fit": null,
            "grid_auto_columns": null,
            "margin": null,
            "display": null,
            "left": null
          }
        },
        "751556f326a54ca5a2071ee71b5c317f": {
          "model_module": "@jupyter-widgets/controls",
          "model_name": "ProgressStyleModel",
          "model_module_version": "1.5.0",
          "state": {
            "_view_name": "StyleView",
            "_model_name": "ProgressStyleModel",
            "description_width": "",
            "_view_module": "@jupyter-widgets/base",
            "_model_module_version": "1.5.0",
            "_view_count": null,
            "_view_module_version": "1.2.0",
            "bar_color": null,
            "_model_module": "@jupyter-widgets/controls"
          }
        },
        "7be495dcf356421fba2ac17773ef59d3": {
          "model_module": "@jupyter-widgets/base",
          "model_name": "LayoutModel",
          "model_module_version": "1.2.0",
          "state": {
            "_view_name": "LayoutView",
            "grid_template_rows": null,
            "right": null,
            "justify_content": null,
            "_view_module": "@jupyter-widgets/base",
            "overflow": null,
            "_model_module_version": "1.2.0",
            "_view_count": null,
            "flex_flow": null,
            "width": null,
            "min_width": null,
            "border": null,
            "align_items": null,
            "bottom": null,
            "_model_module": "@jupyter-widgets/base",
            "top": null,
            "grid_column": null,
            "overflow_y": null,
            "overflow_x": null,
            "grid_auto_flow": null,
            "grid_area": null,
            "grid_template_columns": null,
            "flex": null,
            "_model_name": "LayoutModel",
            "justify_items": null,
            "grid_row": null,
            "max_height": null,
            "align_content": null,
            "visibility": null,
            "align_self": null,
            "height": null,
            "min_height": null,
            "padding": null,
            "grid_auto_rows": null,
            "grid_gap": null,
            "max_width": null,
            "order": null,
            "_view_module_version": "1.2.0",
            "grid_template_areas": null,
            "object_position": null,
            "object_fit": null,
            "grid_auto_columns": null,
            "margin": null,
            "display": null,
            "left": null
          }
        },
        "a49c1b59a10c4f5db10d52735be1bf50": {
          "model_module": "@jupyter-widgets/controls",
          "model_name": "DescriptionStyleModel",
          "model_module_version": "1.5.0",
          "state": {
            "_view_name": "StyleView",
            "_model_name": "DescriptionStyleModel",
            "description_width": "",
            "_view_module": "@jupyter-widgets/base",
            "_model_module_version": "1.5.0",
            "_view_count": null,
            "_view_module_version": "1.2.0",
            "_model_module": "@jupyter-widgets/controls"
          }
        },
        "886bb37772834641b905a967482e067e": {
          "model_module": "@jupyter-widgets/base",
          "model_name": "LayoutModel",
          "model_module_version": "1.2.0",
          "state": {
            "_view_name": "LayoutView",
            "grid_template_rows": null,
            "right": null,
            "justify_content": null,
            "_view_module": "@jupyter-widgets/base",
            "overflow": null,
            "_model_module_version": "1.2.0",
            "_view_count": null,
            "flex_flow": null,
            "width": null,
            "min_width": null,
            "border": null,
            "align_items": null,
            "bottom": null,
            "_model_module": "@jupyter-widgets/base",
            "top": null,
            "grid_column": null,
            "overflow_y": null,
            "overflow_x": null,
            "grid_auto_flow": null,
            "grid_area": null,
            "grid_template_columns": null,
            "flex": null,
            "_model_name": "LayoutModel",
            "justify_items": null,
            "grid_row": null,
            "max_height": null,
            "align_content": null,
            "visibility": null,
            "align_self": null,
            "height": null,
            "min_height": null,
            "padding": null,
            "grid_auto_rows": null,
            "grid_gap": null,
            "max_width": null,
            "order": null,
            "_view_module_version": "1.2.0",
            "grid_template_areas": null,
            "object_position": null,
            "object_fit": null,
            "grid_auto_columns": null,
            "margin": null,
            "display": null,
            "left": null
          }
        }
      }
    }
  },
  "nbformat": 4,
  "nbformat_minor": 0
}