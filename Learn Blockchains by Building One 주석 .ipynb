{
 "cells": [
  {
   "cell_type": "code",
   "execution_count": null,
   "metadata": {},
   "outputs": [],
   "source": [
    "import hashlib\n",
    "import json\n",
    "from time import time\n",
    "from urllib.parse import urlparse\n",
    "from uuid import uuid4\n",
    "\n",
    "import requests\n",
    "from flask import Flask, jsonify, request"
   ]
  },
  {
   "cell_type": "code",
   "execution_count": null,
   "metadata": {},
   "outputs": [],
   "source": [
    "class Blockchain:\n",
    "    "
   ]
  },
  {
   "cell_type": "markdown",
   "metadata": {},
   "source": [
    "### def__init__ :     constructor of this class\n",
    "- initialize 2 empty list to store chain &   transactions"
   ]
  },
  {
   "cell_type": "code",
   "execution_count": 2,
   "metadata": {},
   "outputs": [],
   "source": [
    "  def __init__(self):\n",
    "        self.current_transactions = []\n",
    "        self.chain = []\n",
    "        self.nodes = set()\n",
    "\n",
    "        # Create the genesis block\n",
    "        self.new_block(previous_hash='1', proof=100)\n",
    "\n",
    " "
   ]
  },
  {
   "cell_type": "markdown",
   "metadata": {},
   "source": [
    "### register_node(self, address)\n",
    "-   새 node를 네트워크에 등록하기 위한 메서드, 이때, 새로운 노드가 네트워크에 등록되면,\n",
    "    인접한 노드 순서대로, 다른 노드들에도 그 정보가 전달되어야 한다. \n",
    "-   :param address: Address of node. Eg. 'http://192.168.0.5:5000'"
   ]
  },
  {
   "cell_type": "code",
   "execution_count": null,
   "metadata": {},
   "outputs": [],
   "source": [
    "       \n",
    "    def register_node(self, address):\n",
    "        \"\"\"\n",
    "        Add a new node to the list of nodes\n",
    "        :param address: Address of node. Eg. 'http://192.168.0.5:5000'\n",
    "        \"\"\"\n",
    "\n",
    "        parsed_url = urlparse(address)\n",
    "        if parsed_url.netloc:\n",
    "            self.nodes.add(parsed_url.netloc)\n",
    "        elif parsed_url.path:\n",
    "            # Accepts an URL without scheme like '192.168.0.5:5000'.\n",
    "            self.nodes.add(parsed_url.path)\n",
    "        else:\n",
    "            raise ValueError('Invalid URL')"
   ]
  },
  {
   "cell_type": "markdown",
   "metadata": {},
   "source": [
    "### valid_chain(self, chain)\n",
    "- parameter로 받아온 체인에 대해, 체인의 모든 블록들에 대해 해쉬값과 proof값을 확인함으로서, 체인의 유효성을 검사한다.\n",
    "- 분기로 인한 충돌문제가 생겼을 때, 선택된 체인에 대해 검증할 때 쓰인다.\n",
    "~~~python\n",
    "    # Check that the hash of the block is correct\n",
    "    # param chain으로 받아온 체인의 current_index번째 블록의 이전 해쉬값과, current_index-1번째 블록의 해쉬값 비교.\n",
    "    last_block_hash = self.hash(last_block)\n",
    "    if block['previous_hash'] != last_block_hash:\n",
    "        return False\n",
    "\n",
    "    # Check that the Proof of Work is correct\n",
    "    # 블록마다 작업증명이 제대로 이루어졌는지 확인.\n",
    "    if not self.valid_proof(last_block['proof'], block['proof'], last_block_hash):\n",
    "        return False\n",
    "~~~"
   ]
  },
  {
   "cell_type": "code",
   "execution_count": null,
   "metadata": {},
   "outputs": [],
   "source": [
    "    def valid_chain(self, chain):\n",
    "        \"\"\"\n",
    "        Determine if a given blockchain is valid - 1.\n",
    "\n",
    "        :param chain: A blockchain\n",
    "        :return: True if valid, False if not\n",
    "        \"\"\"\n",
    "       \n",
    "        last_block = chain[0]\n",
    "        current_index = 1\n",
    "\n",
    "        while current_index < len(chain):\n",
    "            block = chain[current_index]\n",
    "            print(f'{last_block}')\n",
    "            print(f'{block}')\n",
    "            print(\"\\n-----------\\n\")\n",
    "            # Check that the hash of the block is correct\n",
    "            # param chain으로 받아온 체인의 current_index번째 블록의 이전 해쉬값과, current_index-1번째 블록의 해쉬값 비교.\n",
    "            last_block_hash = self.hash(last_block)\n",
    "            if block['previous_hash'] != last_block_hash:\n",
    "                return False\n",
    "\n",
    "            # Check that the Proof of Work is correct\n",
    "            # 블록마다 작업증명이 제대로 이루어졌는지 확인.\n",
    "            if not self.valid_proof(last_block['proof'], block['proof'], last_block_hash):\n",
    "                return False\n",
    "\n",
    "            last_block = block\n",
    "            current_index += 1\n",
    "\n",
    "        return True"
   ]
  },
  {
   "cell_type": "markdown",
   "metadata": {},
   "source": [
    "### resolve_conflicts(self)\n",
    "- consensus algorithm구현,  체인이 분기가 이루어 져서 충돌이 일어나는 경우,네트워크에서 두 체인 중 더 긴 체인을 선택하는 방식으로 충돌을 해결한다. \n",
    "\n",
    "~~~python\n",
    "# Check if the length is longer and the chain is valid\n",
    "#(max_length - 자신의 길이 와 길이비교 && 체인의 유효성검사 - 위의 valid_chain함수를 이용)\n",
    "if length > max_length and self.valid_chain(chain):\n",
    "    max_length = length\n",
    "    new_chain = chain\n",
    "# Replace our chain if we discovered a new, valid chain longer than ours\n",
    "if new_chain:\n",
    "    self.chain = new_chain\n",
    "    return True\n",
    "\n",
    "return False\n",
    "~~~"
   ]
  },
  {
   "cell_type": "code",
   "execution_count": null,
   "metadata": {},
   "outputs": [],
   "source": [
    "    def resolve_conflicts(self):\n",
    "        \"\"\"\n",
    "        This is our consensus algorithm, it resolves conflicts\n",
    "        by replacing our chain with the longest one in the network.\n",
    "    \n",
    "        :return: True if our chain was replaced, False if not\n",
    "        \"\"\"\n",
    "        neighbours = self.nodes\n",
    "        new_chain = None\n",
    "\n",
    "        # We're only looking for chains longer than ours\n",
    "        max_length = len(self.chain)\n",
    "\n",
    "        # Grab and verify the chains from all the nodes in our network\n",
    "        for node in neighbours:\n",
    "            response = requests.get(f'http://{node}/chain')\n",
    "\n",
    "            if response.status_code == 200:\n",
    "                length = response.json()['length']\n",
    "                chain = response.json()['chain']\n",
    "\n",
    "                # Check if the length is longer and the chain is valid\n",
    "                #(max_length - 자신의 길이 와 길이비교 && 체인의 유효성검사 - 위의 valid_chain함수를 이용)\n",
    "                if length > max_length and self.valid_chain(chain):\n",
    "                    max_length = length\n",
    "                    new_chain = chain\n",
    "\n",
    "        # Replace our chain if we discovered a new, valid chain longer than ours\n",
    "        if new_chain:\n",
    "            self.chain = new_chain\n",
    "            return True\n",
    "\n",
    "        return False"
   ]
  },
  {
   "cell_type": "markdown",
   "metadata": {},
   "source": [
    "### new_block(self, proof, previous_hash)\n",
    "- 새로운 블럭을 체인에 추가한다.\n",
    "- 파라미터로 받아온 `proof`, `previous_hash`값을 체인에 추가될 블럭에 정보로 추가한다.\n",
    "- 블럭이 갖는 정보는 다음과 같다.\n",
    "~~~\n",
    "block = {\n",
    "    'index': len(self.chain) + 1,\n",
    "    'timestamp': time(),\n",
    "    'transactions': self.current_transactions,\n",
    "    'proof': proof,\n",
    "    'previous_hash': previous_hash or self.hash(self.chain[-1]),\n",
    "}\n",
    "~~~"
   ]
  },
  {
   "cell_type": "code",
   "execution_count": null,
   "metadata": {},
   "outputs": [],
   "source": [
    "    def new_block(self, proof, previous_hash):\n",
    "        \"\"\"\n",
    "        Create a new Block in the Blockchain - 채굴작업 성공시:proof값 발견. 새로운 블록을 생성, \n",
    "        \n",
    "\n",
    "        :param proof: The proof given by the Proof of Work algorithm - 발견한 새로운 proof값\n",
    "        :param previous_hash: Hash of previous Block -  이전 해쉬값을 받아와서 블록헤더에 저장.\n",
    "        :return: New Block\n",
    "        \"\"\"\n",
    "\n",
    "        block = {\n",
    "            'index': len(self.chain) + 1,\n",
    "            'timestamp': time(),\n",
    "            'transactions': self.current_transactions,\n",
    "            'proof': proof,\n",
    "            'previous_hash': previous_hash or self.hash(self.chain[-1]),\n",
    "        }\n",
    "\n",
    "        # Reset the current list of transactions\n",
    "        self.current_transactions = []\n",
    "\n",
    "        #체인에 새 블록을 추가한다.\n",
    "        self.chain.append(block)\n",
    "        return block\n",
    "    "
   ]
  },
  {
   "cell_type": "markdown",
   "metadata": {},
   "source": [
    "### new_transaction(self, sender, recipient, amount)\n",
    "- '/transactions/new'로 post요청이 들어오면, 새 트랜잭션을 추가한다. new_transaction()에서 호출한다.\n",
    "-  추가된 트랜잭션을 정보로 갖는 __블럭의 인덱스값__ 을 리턴한다.\n",
    "-  유저가 서버로 보내는 정보 3가지\n",
    "~~~python\n",
    "param sender: Address of the Sender\n",
    "param recipient: Address of the Recipient\n",
    "param amount: Amount\n",
    "~~~\n"
   ]
  },
  {
   "cell_type": "code",
   "execution_count": null,
   "metadata": {},
   "outputs": [],
   "source": [
    "    '''\n",
    "    '/transactions/new'로 post요청이 들어오면, 새 트랜잭션을 추가한다.\n",
    "    new_transaction()에서 호출한다.\n",
    "    \n",
    "    '''\n",
    "    def new_transaction(self, sender, recipient, amount):\n",
    "        \"\"\"\n",
    "        Creates a new transaction to go into the next mined Block\n",
    "\n",
    "        유저가 서버로 보내는 정보 3가지\n",
    "        :param sender: Address of the Sender\n",
    "        :param recipient: Address of the Recipient\n",
    "        :param amount: Amount\n",
    "        \n",
    "        :return: The index of the Block that will hold this transaction\n",
    "        \"\"\"\n",
    "        self.current_transactions.append({\n",
    "            'sender': sender,\n",
    "            'recipient': recipient,\n",
    "            'amount': amount,\n",
    "        })\n",
    "\n",
    "        return self.last_block['index'] + 1"
   ]
  },
  {
   "cell_type": "code",
   "execution_count": null,
   "metadata": {},
   "outputs": [],
   "source": [
    "    @property\n",
    "    def last_block(self):\n",
    "        return self.chain[-1]"
   ]
  },
  {
   "cell_type": "markdown",
   "metadata": {},
   "source": [
    "### hash(block)\n",
    "- block의 해쉬값을 구해준다. 단순히 해쉬값 계산만 해주는 함수이므로, 인스턴스에 구애받지 않도록 `staticmethod`로 선언함."
   ]
  },
  {
   "cell_type": "code",
   "execution_count": null,
   "metadata": {},
   "outputs": [],
   "source": [
    "    @staticmethod\n",
    "    def hash(block):\n",
    "        \"\"\"\n",
    "        Creates a SHA-256 hash of a Block\n",
    "\n",
    "        :param block: Block\n",
    "        \"\"\"\n",
    "\n",
    "        # We must make sure that the Dictionary is Ordered, or we'll have inconsistent hashes\n",
    "        block_string = json.dumps(block, sort_keys=True).encode()\n",
    "        return hashlib.sha256(block_string).hexdigest()"
   ]
  },
  {
   "cell_type": "markdown",
   "metadata": {},
   "source": [
    "### proof_of_work(self, last_block)\n",
    "- 작업증명 알고리즘(noncer값 구하기 - 여기선 proof값)을 구현한 함수 `valid_proof(last_proof, proof, last_hash)`를 호출한다.\n"
   ]
  },
  {
   "cell_type": "code",
   "execution_count": null,
   "metadata": {},
   "outputs": [],
   "source": [
    "    def proof_of_work(self, last_block):\n",
    "        \"\"\"\n",
    "\n",
    "        Simple Proof of Work Algorithm:\n",
    "\n",
    "         - Find a number p' such that hash(p * p') contains leading 4 zeroes\n",
    "         - Where p is the previous proof, and p' is the new proof\n",
    "         \n",
    "        :param last_block: <dict> last Block\n",
    "        :return: <int>\n",
    "        \"\"\"\n",
    "\n",
    "        last_proof = last_block['proof']\n",
    "        last_hash = self.hash(last_block)\n",
    "\n",
    "        proof = 0\n",
    "        ## hash값을 valid_proof함수에 넣어서, 나온 값이 작업증명을 만족하는 지 확인한다.\n",
    "        while self.valid_proof(last_proof, proof, last_hash) is False:\n",
    "            proof += 1\n",
    "\n",
    "        return proof"
   ]
  },
  {
   "cell_type": "markdown",
   "metadata": {},
   "source": [
    "###  valid_proof(last_proof, proof, last_hash)\n",
    "- 작업증명 알고리즘을 적용시킨 함수. 여기서 쓰인 작업증명 알고리즘은 다음과 같다.\n",
    ">  - Find a number p' such that hash(p * p') contains leading 4 zeroes\n",
    "   Where p is the previous proof, and p' is the new proof\n",
    "   \n",
    " ~~~python\n",
    "        #참고 - 파이썬 3.6에서 추가된 f-string이라는 문법으로 format string guess를 생성한다.\n",
    "        guess = f'{last_proof}{proof}{last_hash}'.encode()\n",
    "        guess_hash = hashlib.sha256(guess).hexdigest()\n",
    "        #앞의 4개의 숫자가 0000이 되는경우, true\n",
    "        return guess_hash[:4] == \"0000\"\n",
    "~~~\n"
   ]
  },
  {
   "cell_type": "code",
   "execution_count": null,
   "metadata": {},
   "outputs": [],
   "source": [
    "    @staticmethod\n",
    "    def valid_proof(last_proof, proof, last_hash):\n",
    "        \n",
    "        '''\n",
    "        작업증명 알고리즘을 적용시킨 함수.\n",
    "        '''\n",
    "        \"\"\"\n",
    "        Validates the Proof\n",
    "\n",
    "        :param last_proof: <int> Previous Proof\n",
    "        :param proof: <int> Current Proof\n",
    "        :param last_hash: <str> The hash of the Previous Block\n",
    "        :return: <bool> True if correct, False if not.\n",
    "\n",
    "        \"\"\"\n",
    "        #참고 - 파이썬 3.6에서 추가된 f-string이라는 문법으로 format string guess를 생성한다.\n",
    "        guess = f'{last_proof}{proof}{last_hash}'.encode()\n",
    "        guess_hash = hashlib.sha256(guess).hexdigest()\n",
    "        #앞의 4개의 숫자가 0000이 되는경우, true\n",
    "        return guess_hash[:4] == \"0000\""
   ]
  },
  {
   "cell_type": "markdown",
   "metadata": {},
   "source": [
    "### 아래부터는 Flask를 사용해서 파이썬 웹 어플리케이션을 구축하는 과정이다.\n",
    "### 인스턴스를 추가해주고, `app.route()`로 요청주소(와 요청방식)와 callback메소드를 엮어준다"
   ]
  },
  {
   "cell_type": "code",
   "execution_count": null,
   "metadata": {},
   "outputs": [],
   "source": [
    "# Instantiate the Node\n",
    "app = Flask(__name__)\n",
    "\n",
    "# Generate a globally unique address for this node\n",
    "node_identifier = str(uuid4()).replace('-', '')\n",
    "\n",
    "# Instantiate the Blockchain\n",
    "blockchain = Blockchain()\n",
    "\n",
    "\n",
    "\n",
    "#이 아래로는 전부 url을 통해 요청을 하면, 그에 해당하는 callback함수들이 정의되어있다, callback함수들은 요청에 해당하는 작업들을\n",
    "#위에서 정의한 함수들을 이용해 처리한다."
   ]
  },
  {
   "cell_type": "markdown",
   "metadata": {},
   "source": [
    "#### @app.route('/mine', methods=['GET']) def mine()\n",
    "- `/mine` 주소로 요청하게 되면, 채굴작업을 하라는 의미이다.\n",
    "- 채굴에 성공한 경우, 추가되는 transaction에서, sender는 \"0\"으로 정의한다.\n",
    "- 보상은 1코인으로 하자.\n",
    "- 성공시, 응답으로 블록의 index(몇 번째 블록인가), transaction, proof값, 이전해쉬를 포함한 json응답과 200코드를 response한다.\n",
    "\n"
   ]
  },
  {
   "cell_type": "code",
   "execution_count": null,
   "metadata": {},
   "outputs": [],
   "source": [
    "@app.route('/mine', methods=['GET'])\n",
    "\n",
    "\n",
    "def mine():\n",
    "    # We run the proof of work algorithm to get the next proof...\n",
    "    last_block = blockchain.last_block\n",
    "    proof = blockchain.proof_of_work(last_block)\n",
    "\n",
    "    # We must receive a reward for finding the proof.\n",
    "    # The sender is \"0\" to signify that this node has mined a new coin.\n",
    "    blockchain.new_transaction(\n",
    "        sender=\"0\",\n",
    "        recipient=node_identifier,\n",
    "        amount=1,\n",
    "    )\n",
    "\n",
    "    # Forge the new Block by adding it to the chain\n",
    "    previous_hash = blockchain.hash(last_block)\n",
    "    block = blockchain.new_block(proof, previous_hash)\n",
    "\n",
    "    response = {\n",
    "        'message': \"New Block Forged\",\n",
    "        'index': block['index'],\n",
    "        'transactions': block['transactions'],\n",
    "        'proof': block['proof'],\n",
    "        'previous_hash': block['previous_hash'],\n",
    "    }\n",
    "    return jsonify(response), 200"
   ]
  },
  {
   "cell_type": "markdown",
   "metadata": {},
   "source": [
    "#### @app.route('/transactions/new', methods=['POST'])\n",
    "- `/transactions/new`로 요청하면, 새 트랙잭션을 추가하도록 한다.\n",
    "- 이 때, user로 부터 sender, recipient, amount정보를 모두 받아왔는지 확인한 후,\n",
    "- 받아온 정보를 위의 new_transaction(self, sender, recipient, amount) 함수에서 처리하도록 한다."
   ]
  },
  {
   "cell_type": "code",
   "execution_count": null,
   "metadata": {},
   "outputs": [],
   "source": [
    "@app.route('/transactions/new', methods=['POST'])\n",
    "def new_transaction():\n",
    "    values = request.get_json()\n",
    "\n",
    "    # Check that the required fields are in the POST'ed data\n",
    "    required = ['sender', 'recipient', 'amount']\n",
    "    if not all(k in values for k in required):\n",
    "        return 'Missing values', 400\n",
    "\n",
    "    # Create a new Transaction\n",
    "    index = blockchain.new_transaction(values['sender'], values['recipient'], values['amount'])\n",
    "\n",
    "    response = {'message': f'Transaction will be added to Block {index}'}\n",
    "    return jsonify(response), 201"
   ]
  },
  {
   "cell_type": "markdown",
   "metadata": {},
   "source": [
    "#### @app.route('/chain', methods=['GET'])\n",
    "-`/chain`로 요청하면, 현 체인의 길이를 json형태로 보여준다."
   ]
  },
  {
   "cell_type": "code",
   "execution_count": null,
   "metadata": {},
   "outputs": [],
   "source": [
    "@app.route('/chain', methods=['GET'])\n",
    "def full_chain():\n",
    "    response = {\n",
    "        'chain': blockchain.chain,\n",
    "        'length': len(blockchain.chain),\n",
    "    }\n",
    "    return jsonify(response), 200"
   ]
  },
  {
   "cell_type": "markdown",
   "metadata": {},
   "source": [
    "#### @app.route('/nodes/register', methods=['POST']) def register_nodes():\n",
    "- 새 노드들을 [nodes : \"주소\"]의 형태로 json을 post형식으로 보내면, 해당 노드들을 추가해준다."
   ]
  },
  {
   "cell_type": "code",
   "execution_count": null,
   "metadata": {},
   "outputs": [],
   "source": [
    "'''\n",
    "새 노드들을 [nodes : \"주소\"]의 형태로 json을 post형식으로 보내면, 해당 노드들을 추가해준다.\n",
    "'''\n",
    "@app.route('/nodes/register', methods=['POST'])\n",
    "def register_nodes():\n",
    "    values = request.get_json()\n",
    "\n",
    "    nodes = values.get('nodes')\n",
    "    if nodes is None:\n",
    "        return \"Error: Please supply a valid list of nodes\", 400\n",
    "\n",
    "    for node in nodes:\n",
    "        blockchain.register_node(node)\n",
    "\n",
    "    response = {\n",
    "        'message': 'New nodes have been added',\n",
    "        'total_nodes': list(blockchain.nodes),\n",
    "    }\n",
    "    return jsonify(response), 201"
   ]
  },
  {
   "cell_type": "markdown",
   "metadata": {},
   "source": [
    "#### @app.route('/nodes/resolve', methods=['GET']) def consensus():\n",
    "- '/nodes/resolve'로 요청하면, 체인 분기로 인한 충돌을 병합해준다. 지금 노드의 체인이 더 길면 살아남고, 짧으면 대체된다."
   ]
  },
  {
   "cell_type": "code",
   "execution_count": null,
   "metadata": {},
   "outputs": [],
   "source": [
    "'''\n",
    "'/nodes/resolve'로 요청하면, 체인 분기로 인한 충돌을 병합해준다.\n",
    "지금 노드의 체인이 더 길면 살아남고, 짧으면 대체된다.\n",
    "\n",
    "'''\n",
    "@app.route('/nodes/resolve', methods=['GET'])\n",
    "def consensus():\n",
    "    replaced = blockchain.resolve_conflicts()\n",
    "\n",
    "    if replaced:\n",
    "        response = {\n",
    "            'message': 'Our chain was replaced',\n",
    "            'new_chain': blockchain.chain\n",
    "        }\n",
    "    else:\n",
    "        response = {\n",
    "            'message': 'Our chain is authoritative',\n",
    "            'chain': blockchain.chain\n",
    "        }\n",
    "\n",
    "    return jsonify(response), 200"
   ]
  },
  {
   "cell_type": "code",
   "execution_count": 21,
   "metadata": {
    "scrolled": true
   },
   "outputs": [
    {
     "ename": "NameError",
     "evalue": "name 'app' is not defined",
     "output_type": "error",
     "traceback": [
      "\u001b[1;31m---------------------------------------------------------------------------\u001b[0m",
      "\u001b[1;31mNameError\u001b[0m                                 Traceback (most recent call last)",
      "\u001b[1;32m<ipython-input-21-a07424fff780>\u001b[0m in \u001b[0;36m<module>\u001b[1;34m()\u001b[0m\n\u001b[0;32m      4\u001b[0m \u001b[1;33m\u001b[0m\u001b[0m\n\u001b[0;32m      5\u001b[0m '''\n\u001b[1;32m----> 6\u001b[1;33m \u001b[1;33m@\u001b[0m\u001b[0mapp\u001b[0m\u001b[1;33m.\u001b[0m\u001b[0mroute\u001b[0m\u001b[1;33m(\u001b[0m\u001b[1;34m'/nodes/resolve'\u001b[0m\u001b[1;33m,\u001b[0m \u001b[0mmethods\u001b[0m\u001b[1;33m=\u001b[0m\u001b[1;33m[\u001b[0m\u001b[1;34m'GET'\u001b[0m\u001b[1;33m]\u001b[0m\u001b[1;33m)\u001b[0m\u001b[1;33m\u001b[0m\u001b[0m\n\u001b[0m\u001b[0;32m      7\u001b[0m \u001b[1;32mdef\u001b[0m \u001b[0mconsensus\u001b[0m\u001b[1;33m(\u001b[0m\u001b[1;33m)\u001b[0m\u001b[1;33m:\u001b[0m\u001b[1;33m\u001b[0m\u001b[0m\n\u001b[0;32m      8\u001b[0m     \u001b[0mreplaced\u001b[0m \u001b[1;33m=\u001b[0m \u001b[0mblockchain\u001b[0m\u001b[1;33m.\u001b[0m\u001b[0mresolve_conflicts\u001b[0m\u001b[1;33m(\u001b[0m\u001b[1;33m)\u001b[0m\u001b[1;33m\u001b[0m\u001b[0m\n",
      "\u001b[1;31mNameError\u001b[0m: name 'app' is not defined"
     ]
    }
   ],
   "source": [
    "if __name__ == '__main__':\n",
    "    from argparse import ArgumentParser\n",
    "\n",
    "    parser = ArgumentParser()\n",
    "    parser.add_argument('-p', '--port', default=5000, type=int, help='port to listen on')\n",
    "    args = parser.parse_args()\n",
    "    port = args.port\n",
    "\n",
    "    app.run(host='0.0.0.0', port=port)"
   ]
  }
 ],
 "metadata": {
  "kernelspec": {
   "display_name": "Python 3",
   "language": "python",
   "name": "python3"
  },
  "language_info": {
   "codemirror_mode": {
    "name": "ipython",
    "version": 3
   },
   "file_extension": ".py",
   "mimetype": "text/x-python",
   "name": "python",
   "nbconvert_exporter": "python",
   "pygments_lexer": "ipython3",
   "version": "3.6.5"
  }
 },
 "nbformat": 4,
 "nbformat_minor": 2
}
