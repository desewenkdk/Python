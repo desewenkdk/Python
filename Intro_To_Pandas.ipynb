{
  "nbformat": 4,
  "nbformat_minor": 0,
  "metadata": {
    "colab": {
      "name": "Intro_To_Pandas.ipynb",
      "version": "0.3.2",
      "provenance": [],
      "collapsed_sections": [],
      "include_colab_link": true
    },
    "kernelspec": {
      "name": "python3",
      "display_name": "Python 3"
    }
  },
  "cells": [
    {
      "cell_type": "markdown",
      "metadata": {
        "id": "view-in-github",
        "colab_type": "text"
      },
      "source": [
        "<a href=\"https://colab.research.google.com/github/desewenkdk/Python/blob/master/Intro_To_Pandas.ipynb\" target=\"_parent\"><img src=\"https://colab.research.google.com/assets/colab-badge.svg\" alt=\"Open In Colab\"/></a>"
      ]
    },
    {
      "metadata": {
        "id": "3tdjmsJwNqyl",
        "colab_type": "code",
        "outputId": "969b5ca5-cdb1-4b21-f446-d03c62a54dde",
        "colab": {
          "base_uri": "https://localhost:8080/",
          "height": 35
        }
      },
      "cell_type": "code",
      "source": [
        "from __future__ import print_function\n",
        "import pandas as pd\n",
        "pd.__version__"
      ],
      "execution_count": 0,
      "outputs": [
        {
          "output_type": "execute_result",
          "data": {
            "text/plain": [
              "'0.24.2'"
            ]
          },
          "metadata": {
            "tags": []
          },
          "execution_count": 2
        }
      ]
    },
    {
      "metadata": {
        "id": "Qe_AyYBLPDrF",
        "colab_type": "code",
        "outputId": "779661f7-2e43-463b-bd34-82b93be0a104",
        "colab": {
          "base_uri": "https://localhost:8080/",
          "height": 173
        }
      },
      "cell_type": "code",
      "source": [
        "#Series\n",
        "pd.Series(['honkai3','starcraft','kartrider'])\n",
        "#DataFRame with Series\n",
        "myGames = pd.Series(['honkai3','starcraft','kartrider', 'bindingOfIssac'])\n",
        "myGameLV = pd.Series([78,1400,7,'platinumGod'])\n",
        "myGameTable = pd.DataFrame({'GameName':myGames, 'GameLV':myGameLV})\n",
        "myGameTable.head()"
      ],
      "execution_count": 20,
      "outputs": [
        {
          "output_type": "execute_result",
          "data": {
            "text/html": [
              "<div>\n",
              "<style scoped>\n",
              "    .dataframe tbody tr th:only-of-type {\n",
              "        vertical-align: middle;\n",
              "    }\n",
              "\n",
              "    .dataframe tbody tr th {\n",
              "        vertical-align: top;\n",
              "    }\n",
              "\n",
              "    .dataframe thead th {\n",
              "        text-align: right;\n",
              "    }\n",
              "</style>\n",
              "<table border=\"1\" class=\"dataframe\">\n",
              "  <thead>\n",
              "    <tr style=\"text-align: right;\">\n",
              "      <th></th>\n",
              "      <th>GameName</th>\n",
              "      <th>GameLV</th>\n",
              "    </tr>\n",
              "  </thead>\n",
              "  <tbody>\n",
              "    <tr>\n",
              "      <th>0</th>\n",
              "      <td>honkai3</td>\n",
              "      <td>78</td>\n",
              "    </tr>\n",
              "    <tr>\n",
              "      <th>1</th>\n",
              "      <td>starcraft</td>\n",
              "      <td>1400</td>\n",
              "    </tr>\n",
              "    <tr>\n",
              "      <th>2</th>\n",
              "      <td>kartrider</td>\n",
              "      <td>7</td>\n",
              "    </tr>\n",
              "    <tr>\n",
              "      <th>3</th>\n",
              "      <td>bindingOfIssac</td>\n",
              "      <td>platinumGod</td>\n",
              "    </tr>\n",
              "  </tbody>\n",
              "</table>\n",
              "</div>"
            ],
            "text/plain": [
              "         GameName       GameLV\n",
              "0         honkai3           78\n",
              "1       starcraft         1400\n",
              "2       kartrider            7\n",
              "3  bindingOfIssac  platinumGod"
            ]
          },
          "metadata": {
            "tags": []
          },
          "execution_count": 20
        }
      ]
    },
    {
      "metadata": {
        "id": "Nr2BvyIeRG71",
        "colab_type": "text"
      },
      "cell_type": "markdown",
      "source": [
        "2진수 : 앞에 0b,  8진수: 앞에 0o, 16진수 :앞에0x\n",
        "\n",
        "모두 int형으로 자동 컨버팅된다."
      ]
    },
    {
      "metadata": {
        "id": "nVXiS0U9RI59",
        "colab_type": "code",
        "outputId": "2d254d04-5710-48ff-9c18-6358e73e7950",
        "colab": {
          "base_uri": "https://localhost:8080/",
          "height": 35
        }
      },
      "cell_type": "code",
      "source": [
        "binary=0b0101\n",
        "octa=0o544\n",
        "hexa=0xAD1\n",
        "print(binary,type(binary), octa,type(octa),hexa,type(hexa))\n",
        "\n"
      ],
      "execution_count": 0,
      "outputs": [
        {
          "output_type": "stream",
          "text": [
            "5 <class 'int'> 356 <class 'int'> 2769 <class 'int'>\n"
          ],
          "name": "stdout"
        }
      ]
    },
    {
      "metadata": {
        "id": "9GmLKTX-Rfsl",
        "colab_type": "text"
      },
      "cell_type": "markdown",
      "source": [
        "**강력한 스트링 처리로 인해, 비정형데이터 처리에 굉장히 능숙하다.**\n",
        "\n",
        "*정형데이터 : 엑셀, csv*\n",
        "\n",
        "스트링만들기 : ' ', \" \", \"\"\" \"\"\", ''' ''' \n",
        "\n",
        "\" \"내부에 ''기호 사용 가능하다.\n",
        "\n",
        "여러줄 쓰려면, \n",
        "* 1. \\n을 쓴다.\n",
        "* 2. \" \" \" \\t\" \" \" 사이에, 그냥 엔터 쳐서 뉴라인 만든다.\n",
        "* 3. lstrip(), rstrip(), strip() = Delete Space in String.\n",
        "* 4. replace(\"a\", \"b\")=> replace character a to b\n",
        "* 5. split(\"*delimeter*\") : delimeter를 적어줘서, 스트링 내부에 있는 delimeter로 스트링을 쪼개버리자."
      ]
    },
    {
      "metadata": {
        "id": "alzz2eRaWsY-",
        "colab_type": "code",
        "colab": {}
      },
      "cell_type": "code",
      "source": [
        ""
      ],
      "execution_count": 0,
      "outputs": []
    },
    {
      "metadata": {
        "id": "6kpB-mMjWvcc",
        "colab_type": "text"
      },
      "cell_type": "markdown",
      "source": [
        "**LIST**\n",
        "내부에, 여러가지 타입을 한꺼번에 집어넣을 수 있는 자료구조이다.\n",
        "* +연산자 : list + list, *(&#42):list복사.\n",
        "* del : delete elements, append: add to back\n",
        "* sort: 정렬, **데이터가 많아지면 TPU, GPU를 쓰자.**\n",
        "* index(*element name*), insert(*poistion*, *data*), remove(*value*):value중 첫 번째 위치에 있는 data를 제거."
      ]
    },
    {
      "metadata": {
        "id": "83-WC8uwXFp_",
        "colab_type": "code",
        "colab": {
          "base_uri": "https://localhost:8080/",
          "height": 35
        },
        "outputId": "77a4dab8-3032-4019-bb65-6c4b471fd079"
      },
      "cell_type": "code",
      "source": [
        "list1 = [1,2.5,'string',['list',['nestedList']]]\n",
        "list2 = [3,4,5]\n",
        "type(list1[3])\n",
        "type(list1[3][0])\n",
        "list12 = list1 + list2\n",
        "list12.insert(3,\"fourth\")\n",
        "# list12.remove(0) : 없는 값은 remove하면 에러뜬다.\n",
        "list12.remove('string')\n",
        "print(list12)"
      ],
      "execution_count": 18,
      "outputs": [
        {
          "output_type": "stream",
          "text": [
            "[1, 2.5, 'fourth', ['list', ['nestedList']], 3, 4, 5]\n"
          ],
          "name": "stdout"
        }
      ]
    },
    {
      "metadata": {
        "id": "8J5R8btOZIgU",
        "colab_type": "code",
        "colab": {}
      },
      "cell_type": "code",
      "source": [
        ""
      ],
      "execution_count": 0,
      "outputs": []
    }
  ]
}